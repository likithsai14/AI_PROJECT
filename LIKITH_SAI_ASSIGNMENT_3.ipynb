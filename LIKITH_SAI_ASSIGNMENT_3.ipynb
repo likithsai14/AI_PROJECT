{
  "nbformat": 4,
  "nbformat_minor": 0,
  "metadata": {
    "colab": {
      "provenance": []
    },
    "kernelspec": {
      "name": "python3",
      "display_name": "Python 3"
    },
    "language_info": {
      "name": "python"
    }
  },
  "cells": [
    {
      "cell_type": "markdown",
      "source": [
        "20BRS1265-LIKITH SAI\n",
        "\n",
        "ASSIGNMENT 3"
      ],
      "metadata": {
        "id": "c6SY7QcCPUhw"
      }
    },
    {
      "cell_type": "code",
      "source": [
        "from google.colab import drive\n",
        "drive.mount('/content/drive')"
      ],
      "metadata": {
        "colab": {
          "base_uri": "https://localhost:8080/"
        },
        "id": "EzE7LsUdWZNZ",
        "outputId": "891876ba-5ce4-4c04-e345-bb2c36a32c0f"
      },
      "execution_count": 1,
      "outputs": [
        {
          "output_type": "stream",
          "name": "stdout",
          "text": [
            "Mounted at /content/drive\n"
          ]
        }
      ]
    },
    {
      "cell_type": "code",
      "source": [],
      "metadata": {
        "id": "uKcj7HfzPppf"
      },
      "execution_count": null,
      "outputs": []
    },
    {
      "cell_type": "code",
      "source": [
        "import os\n",
        "import tensorflow as tf\n",
        "from tensorflow.keras.models import Sequential\n",
        "from tensorflow.keras.layers import Conv2D, MaxPooling2D\n",
        "from tensorflow.keras.layers import Activation, Dropout, Flatten, Dense\n",
        "from tensorflow.keras.preprocessing.image import ImageDataGenerator"
      ],
      "metadata": {
        "id": "S8jusSiGWaoJ"
      },
      "execution_count": null,
      "outputs": []
    },
    {
      "cell_type": "code",
      "source": [
        "# Specify the directories\n",
        "train_dir = '/content/drive/MyDrive/archive (1)/train_data/train_data'\n",
        "test_dir = '/content/drive/MyDrive/archive (1)/test_data/test_data'\n",
        "\n",
        "# Initialize data generators\n",
        "train_datagen = ImageDataGenerator(rescale=1. / 255,\n",
        "                                   shear_range=0.2,\n",
        "                                   zoom_range=0.2,\n",
        "                                   horizontal_flip=True,\n",
        "                                   validation_split=0.2)  \n",
        "\n",
        "test_datagen = ImageDataGenerator(rescale=1. / 255)\n",
        "\n",
        "train_generator = train_datagen.flow_from_directory(train_dir,\n",
        "                                                    target_size=(150, 150),\n",
        "                                                    batch_size=32,\n",
        "                                                    class_mode='categorical',\n",
        "                                                    subset='training')\n",
        "\n",
        "validation_generator = train_datagen.flow_from_directory(train_dir,\n",
        "                                                         target_size=(150, 150),\n",
        "                                                         batch_size=32,\n",
        "                                                         class_mode='categorical',\n",
        "                                                         subset='validation')\n",
        "\n",
        "test_generator = test_datagen.flow_from_directory(test_dir,\n",
        "                                                  target_size=(150, 150),\n",
        "                                                  batch_size=32,\n",
        "                                                  class_mode='categorical')"
      ],
      "metadata": {
        "colab": {
          "base_uri": "https://localhost:8080/"
        },
        "id": "XOsmV7XMXB7g",
        "outputId": "407ecf6d-f842-4ecf-ffeb-393fe0ebf8ca"
      },
      "execution_count": null,
      "outputs": [
        {
          "output_type": "stream",
          "name": "stdout",
          "text": [
            "Found 124 images belonging to 16 classes.\n",
            "Found 26 images belonging to 16 classes.\n",
            "Found 157 images belonging to 16 classes.\n"
          ]
        }
      ]
    },
    {
      "cell_type": "code",
      "source": [
        "model = Sequential()\n",
        "model.add(Conv2D(32, (3, 3), input_shape=(150, 150, 3)))\n",
        "model.add(Activation('relu'))\n",
        "model.add(MaxPooling2D(pool_size=(2, 2)))\n",
        "model.add(Conv2D(64, (3, 3)))\n",
        "model.add(Activation('relu'))\n",
        "model.add(MaxPooling2D(pool_size=(2, 2)))\n",
        "model.add(Conv2D(128, (3, 3)))\n",
        "model.add(Activation('relu'))\n",
        "model.add(MaxPooling2D(pool_size=(2, 2)))\n",
        "model.add(Flatten())\n",
        "model.add(Dense(64))\n",
        "model.add(Activation('relu'))\n",
        "model.add(Dropout(0.5))\n",
        "model.add(Dense(16))  # number of bird species\n",
        "model.add(Activation('softmax'))"
      ],
      "metadata": {
        "id": "AriCfC-YXUIz"
      },
      "execution_count": null,
      "outputs": []
    },
    {
      "cell_type": "code",
      "source": [
        "model.compile(loss='categorical_crossentropy',\n",
        "              optimizer='adam',\n",
        "              metrics=['accuracy'])"
      ],
      "metadata": {
        "id": "KBBppbEQXYe2"
      },
      "execution_count": null,
      "outputs": []
    },
    {
      "cell_type": "code",
      "source": [
        "model.fit(train_generator,\n",
        "          steps_per_epoch=train_generator.samples // train_generator.batch_size,\n",
        "          validation_data=validation_generator, \n",
        "          validation_steps=validation_generator.samples // validation_generator.batch_size,\n",
        "          epochs=50)"
      ],
      "metadata": {
        "colab": {
          "base_uri": "https://localhost:8080/"
        },
        "id": "Tw8ltfJDXZ-T",
        "outputId": "fbe9760f-9b2e-4ed6-d2be-a41d325cf559"
      },
      "execution_count": null,
      "outputs": [
        {
          "output_type": "stream",
          "name": "stdout",
          "text": [
            "Epoch 1/50\n",
            "3/3 [==============================] - 132s 41s/step - loss: 2.9806 - accuracy: 0.0729\n",
            "Epoch 2/50\n",
            "3/3 [==============================] - 32s 11s/step - loss: 2.8091 - accuracy: 0.1196\n",
            "Epoch 3/50\n",
            "3/3 [==============================] - 33s 10s/step - loss: 2.7223 - accuracy: 0.1630\n",
            "Epoch 4/50\n",
            "3/3 [==============================] - 38s 14s/step - loss: 2.7191 - accuracy: 0.0938\n",
            "Epoch 5/50\n",
            "3/3 [==============================] - 36s 11s/step - loss: 2.6578 - accuracy: 0.1250\n",
            "Epoch 6/50\n",
            "3/3 [==============================] - 33s 10s/step - loss: 2.5207 - accuracy: 0.1630\n",
            "Epoch 7/50\n",
            "3/3 [==============================] - 32s 10s/step - loss: 2.4817 - accuracy: 0.1875\n",
            "Epoch 8/50\n",
            "3/3 [==============================] - 33s 10s/step - loss: 2.5605 - accuracy: 0.2083\n",
            "Epoch 9/50\n",
            "3/3 [==============================] - 33s 11s/step - loss: 2.4274 - accuracy: 0.1957\n",
            "Epoch 10/50\n",
            "3/3 [==============================] - 33s 10s/step - loss: 2.4803 - accuracy: 0.2391\n",
            "Epoch 11/50\n",
            "3/3 [==============================] - 32s 10s/step - loss: 2.4771 - accuracy: 0.1957\n",
            "Epoch 12/50\n",
            "3/3 [==============================] - 31s 9s/step - loss: 2.4400 - accuracy: 0.2065\n",
            "Epoch 13/50\n",
            "3/3 [==============================] - 34s 11s/step - loss: 2.3575 - accuracy: 0.2812\n",
            "Epoch 14/50\n",
            "3/3 [==============================] - 32s 9s/step - loss: 2.4479 - accuracy: 0.2609\n",
            "Epoch 15/50\n",
            "3/3 [==============================] - 33s 10s/step - loss: 2.2966 - accuracy: 0.3229\n",
            "Epoch 16/50\n",
            "3/3 [==============================] - 31s 11s/step - loss: 2.1022 - accuracy: 0.3587\n",
            "Epoch 17/50\n",
            "3/3 [==============================] - 31s 10s/step - loss: 2.2055 - accuracy: 0.2609\n",
            "Epoch 18/50\n",
            "3/3 [==============================] - 32s 10s/step - loss: 2.1349 - accuracy: 0.2826\n",
            "Epoch 19/50\n",
            "3/3 [==============================] - 38s 12s/step - loss: 2.2379 - accuracy: 0.3261\n",
            "Epoch 20/50\n",
            "3/3 [==============================] - 32s 12s/step - loss: 2.0950 - accuracy: 0.2935\n",
            "Epoch 21/50\n",
            "3/3 [==============================] - 35s 12s/step - loss: 2.1631 - accuracy: 0.3542\n",
            "Epoch 22/50\n",
            "3/3 [==============================] - 32s 10s/step - loss: 2.0001 - accuracy: 0.3587\n",
            "Epoch 23/50\n",
            "3/3 [==============================] - 30s 10s/step - loss: 2.0386 - accuracy: 0.3478\n",
            "Epoch 24/50\n",
            "3/3 [==============================] - 32s 11s/step - loss: 1.9419 - accuracy: 0.3804\n",
            "Epoch 25/50\n",
            "3/3 [==============================] - 32s 11s/step - loss: 1.9665 - accuracy: 0.3913\n",
            "Epoch 26/50\n",
            "3/3 [==============================] - 30s 10s/step - loss: 1.7978 - accuracy: 0.4565\n",
            "Epoch 27/50\n",
            "3/3 [==============================] - 33s 10s/step - loss: 1.7536 - accuracy: 0.4565\n",
            "Epoch 28/50\n",
            "3/3 [==============================] - 36s 11s/step - loss: 1.9186 - accuracy: 0.3854\n",
            "Epoch 29/50\n",
            "3/3 [==============================] - 33s 11s/step - loss: 1.6039 - accuracy: 0.4891\n",
            "Epoch 30/50\n",
            "3/3 [==============================] - 31s 9s/step - loss: 1.5352 - accuracy: 0.4783\n",
            "Epoch 31/50\n",
            "3/3 [==============================] - 31s 10s/step - loss: 1.8627 - accuracy: 0.4022\n",
            "Epoch 32/50\n",
            "3/3 [==============================] - 32s 10s/step - loss: 1.6446 - accuracy: 0.4348\n",
            "Epoch 33/50\n",
            "3/3 [==============================] - 34s 12s/step - loss: 1.6573 - accuracy: 0.5000\n",
            "Epoch 34/50\n",
            "3/3 [==============================] - 34s 11s/step - loss: 1.6274 - accuracy: 0.5217\n",
            "Epoch 35/50\n",
            "3/3 [==============================] - 36s 12s/step - loss: 1.6022 - accuracy: 0.4688\n",
            "Epoch 36/50\n",
            "3/3 [==============================] - 33s 10s/step - loss: 1.5948 - accuracy: 0.4896\n",
            "Epoch 37/50\n",
            "3/3 [==============================] - 32s 10s/step - loss: 1.3059 - accuracy: 0.5870\n",
            "Epoch 38/50\n",
            "3/3 [==============================] - 32s 9s/step - loss: 1.5413 - accuracy: 0.4565\n",
            "Epoch 39/50\n",
            "3/3 [==============================] - 31s 10s/step - loss: 1.5078 - accuracy: 0.5000\n",
            "Epoch 40/50\n",
            "3/3 [==============================] - 34s 10s/step - loss: 1.4382 - accuracy: 0.6196\n",
            "Epoch 41/50\n",
            "3/3 [==============================] - 33s 11s/step - loss: 1.1358 - accuracy: 0.6458\n",
            "Epoch 42/50\n",
            "3/3 [==============================] - 34s 11s/step - loss: 1.3731 - accuracy: 0.5543\n",
            "Epoch 43/50\n",
            "3/3 [==============================] - 36s 12s/step - loss: 1.3463 - accuracy: 0.5625\n",
            "Epoch 44/50\n",
            "3/3 [==============================] - 33s 11s/step - loss: 1.3273 - accuracy: 0.5104\n",
            "Epoch 45/50\n",
            "3/3 [==============================] - 32s 9s/step - loss: 1.2851 - accuracy: 0.6196\n",
            "Epoch 46/50\n",
            "3/3 [==============================] - 34s 12s/step - loss: 1.1601 - accuracy: 0.6250\n",
            "Epoch 47/50\n",
            "3/3 [==============================] - 32s 11s/step - loss: 1.3023 - accuracy: 0.5761\n",
            "Epoch 48/50\n",
            "3/3 [==============================] - 35s 12s/step - loss: 1.0694 - accuracy: 0.6875\n",
            "Epoch 49/50\n",
            "3/3 [==============================] - 32s 10s/step - loss: 1.1397 - accuracy: 0.6196\n",
            "Epoch 50/50\n",
            "3/3 [==============================] - 35s 9s/step - loss: 1.1852 - accuracy: 0.6304\n"
          ]
        },
        {
          "output_type": "execute_result",
          "data": {
            "text/plain": [
              "<keras.callbacks.History at 0x7f45af8b6830>"
            ]
          },
          "metadata": {},
          "execution_count": 6
        }
      ]
    },
    {
      "cell_type": "code",
      "source": [
        "model.save('birds.h5')"
      ],
      "metadata": {
        "id": "slB3UqMnjFzr"
      },
      "execution_count": null,
      "outputs": []
    },
    {
      "cell_type": "code",
      "source": [
        "train_generator.class_indices"
      ],
      "metadata": {
        "colab": {
          "base_uri": "https://localhost:8080/"
        },
        "id": "Jmnpj0pVkRXZ",
        "outputId": "e36e7624-7c7a-4e00-8740-ec9f3bf05e13"
      },
      "execution_count": null,
      "outputs": [
        {
          "output_type": "execute_result",
          "data": {
            "text/plain": [
              "{'blasti': 0,\n",
              " 'bonegl': 1,\n",
              " 'brhkyt': 2,\n",
              " 'cbrtsh': 3,\n",
              " 'cmnmyn': 4,\n",
              " 'gretit': 5,\n",
              " 'hilpig': 6,\n",
              " 'himbul': 7,\n",
              " 'himgri': 8,\n",
              " 'hsparo': 9,\n",
              " 'indvul': 10,\n",
              " 'jglowl': 11,\n",
              " 'lbicrw': 12,\n",
              " 'mgprob': 13,\n",
              " 'rebimg': 14,\n",
              " 'wcrsrt': 15}"
            ]
          },
          "metadata": {},
          "execution_count": 13
        }
      ]
    },
    {
      "cell_type": "code",
      "source": [
        "from tensorflow.keras.preprocessing import image\n",
        "\n",
        "# Load the saved model\n",
        "model = tf.keras.models.load_model('birds.h5')\n",
        "\n",
        "# Function to predict bird species\n",
        "def predict_bird_species(image_path):\n",
        "    img = image.load_img(image_path, target_size=(150, 150))\n",
        "    x = image.img_to_array(img)\n",
        "    x = np.expand_dims(x, axis=0)\n",
        "    x = x / 255.0  # Normalize the image\n",
        "\n",
        "    # Make predictions\n",
        "    predictions = model.predict(x)\n",
        "    predicted_class = np.argmax(predictions)\n",
        "\n",
        "    return predicted_class\n",
        "\n",
        "# Example usage\n",
        "image_path = '/content/mgprob.JPG'\n",
        "predicted_class = predict_bird_species(image_path)\n",
        "print(\"Predicted bird species class:\", predicted_class)"
      ],
      "metadata": {
        "colab": {
          "base_uri": "https://localhost:8080/"
        },
        "id": "jAVq9bk6gnGs",
        "outputId": "c2a01a4a-fe3e-4db2-a7b2-8127787f9568"
      },
      "execution_count": null,
      "outputs": [
        {
          "output_type": "stream",
          "name": "stdout",
          "text": [
            "1/1 [==============================] - 0s 170ms/step\n",
            "Predicted bird species class: 14\n"
          ]
        }
      ]
    },
    {
      "cell_type": "code",
      "source": [
        "image_path = '/content/blasti.jpg'\n",
        "predicted_class = predict_bird_species(image_path)\n",
        "print(\"Predicted bird species class:\", predicted_class)"
      ],
      "metadata": {
        "colab": {
          "base_uri": "https://localhost:8080/"
        },
        "id": "3PSq7IhZidHT",
        "outputId": "13b8cafa-2a14-4d2b-b617-ec723171c507"
      },
      "execution_count": null,
      "outputs": [
        {
          "output_type": "stream",
          "name": "stdout",
          "text": [
            "1/1 [==============================] - 0s 32ms/step\n",
            "Predicted bird species class: 0\n"
          ]
        }
      ]
    }
  ]
}